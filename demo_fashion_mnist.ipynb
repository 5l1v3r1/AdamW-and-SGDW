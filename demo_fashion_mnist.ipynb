{
  "nbformat": 4,
  "nbformat_minor": 0,
  "metadata": {
    "colab": {
      "name": "demo_fashion_mnist.ipynb",
      "version": "0.3.2",
      "views": {},
      "default_view": {},
      "provenance": [],
      "collapsed_sections": []
    },
    "kernelspec": {
      "display_name": "Python 3",
      "language": "python",
      "name": "python3"
    }
  },
  "cells": [
    {
      "metadata": {
        "id": "4gk-TGeZ8-L1",
        "colab_type": "code",
        "colab": {
          "autoexec": {
            "startup": false,
            "wait_interval": 0
          }
        }
      },
      "cell_type": "code",
      "source": [
        "%%capture\n",
        "!mkdir -p ./data/fashion\n",
        "!curl -L http://fashion-mnist.s3-website.eu-central-1.amazonaws.com/train-images-idx3-ubyte.gz -o ./data/fashion/train-images-idx3-ubyte.gz\n",
        "!curl -L http://fashion-mnist.s3-website.eu-central-1.amazonaws.com/train-labels-idx1-ubyte.gz -o ./data/fashion/train-labels-idx1-ubyte.gz\n",
        "!curl -L http://fashion-mnist.s3-website.eu-central-1.amazonaws.com/t10k-images-idx3-ubyte.gz -o ./data/fashion/t10k-images-idx3-ubyte.gz\n",
        "!curl -L http://fashion-mnist.s3-website.eu-central-1.amazonaws.com/t10k-labels-idx1-ubyte.gz -o ./data/fashion/t10k-labels-idx1-ubyte.gz"
      ],
      "execution_count": 0,
      "outputs": []
    },
    {
      "metadata": {
        "id": "j4ehV4O-LMN1",
        "colab_type": "code",
        "colab": {
          "autoexec": {
            "startup": false,
            "wait_interval": 0
          }
        }
      },
      "cell_type": "code",
      "source": [
        "%%capture\n",
        "!mkdir ./utils\n",
        "!curl https://raw.githubusercontent.com/zalandoresearch/fashion-mnist/master/utils/mnist_reader.py -o ./utils/mnist_reader.py"
      ],
      "execution_count": 0,
      "outputs": []
    },
    {
      "metadata": {
        "id": "ZZ1kF7cc8wj6",
        "colab_type": "text"
      },
      "cell_type": "markdown",
      "source": [
        "# fashion-MNIST MLP demo"
      ]
    },
    {
      "metadata": {
        "id": "DMI01Xe98wj9",
        "colab_type": "code",
        "colab": {
          "autoexec": {
            "startup": false,
            "wait_interval": 0
          },
          "base_uri": "https://localhost:8080/",
          "height": 35
        },
        "outputId": "38105ede-4f55-44e6-999b-b24eef5a4df0",
        "executionInfo": {
          "status": "ok",
          "timestamp": 1532340124067,
          "user_tz": -480,
          "elapsed": 4003,
          "user": {
            "displayName": "Lu SA",
            "photoUrl": "https://lh3.googleusercontent.com/a/default-user=s128",
            "userId": "109275333798683015269"
          }
        }
      },
      "cell_type": "code",
      "source": [
        "from __future__ import print_function\n",
        "\n",
        "import keras\n",
        "from keras.models import Sequential\n",
        "from keras.layers import Dense, Dropout, Flatten"
      ],
      "execution_count": 1,
      "outputs": [
        {
          "output_type": "stream",
          "text": [
            "Using TensorFlow backend.\n"
          ],
          "name": "stderr"
        }
      ]
    },
    {
      "metadata": {
        "id": "JpOgvVYBLQLt",
        "colab_type": "code",
        "colab": {
          "autoexec": {
            "startup": false,
            "wait_interval": 0
          }
        }
      },
      "cell_type": "code",
      "source": [
        "from utils import mnist_reader"
      ],
      "execution_count": 0,
      "outputs": []
    },
    {
      "metadata": {
        "id": "YwsvpXVu8wkK",
        "colab_type": "code",
        "colab": {
          "autoexec": {
            "startup": false,
            "wait_interval": 0
          },
          "base_uri": "https://localhost:8080/",
          "height": 53
        },
        "outputId": "580d42b7-502f-4faa-c933-56767b49e92a",
        "executionInfo": {
          "status": "ok",
          "timestamp": 1532340127280,
          "user_tz": -480,
          "elapsed": 1777,
          "user": {
            "displayName": "Lu SA",
            "photoUrl": "https://lh3.googleusercontent.com/a/default-user=s128",
            "userId": "109275333798683015269"
          }
        }
      },
      "cell_type": "code",
      "source": [
        "batch_size = 128\n",
        "num_classes = 10\n",
        "epochs = 80\n",
        "\n",
        "x_train, y_train = mnist_reader.load_mnist('./data/fashion', kind='train')\n",
        "x_test, y_test = mnist_reader.load_mnist('./data/fashion', kind='t10k')\n",
        "\n",
        "x_train = x_train.astype('float32')\n",
        "x_test = x_test.astype('float32')\n",
        "x_train /= 255\n",
        "x_test /= 255\n",
        "print(x_train.shape[0], 'train samples')\n",
        "print(x_test.shape[0], 'test samples')\n",
        "\n",
        "# convert class vectors to binary class matrices\n",
        "y_train = keras.utils.to_categorical(y_train, num_classes)\n",
        "y_test = keras.utils.to_categorical(y_test, num_classes)"
      ],
      "execution_count": 3,
      "outputs": [
        {
          "output_type": "stream",
          "text": [
            "60000 train samples\n",
            "10000 test samples\n"
          ],
          "name": "stdout"
        }
      ]
    },
    {
      "metadata": {
        "id": "wrN3SKlH8wkS",
        "colab_type": "code",
        "colab": {
          "autoexec": {
            "startup": false,
            "wait_interval": 0
          }
        }
      },
      "cell_type": "code",
      "source": [
        "from keras.callbacks import ReduceLROnPlateau\n",
        "reduce_lr_sgd = ReduceLROnPlateau(monitor='val_loss', factor=0.5, patience=5, min_lr=1e-4)\n",
        "reduce_lr_adam = ReduceLROnPlateau(monitor='val_loss', factor=0.5, patience=5, min_lr=1e-5)"
      ],
      "execution_count": 0,
      "outputs": []
    },
    {
      "metadata": {
        "id": "l87AuSaj8wkY",
        "colab_type": "text"
      },
      "cell_type": "markdown",
      "source": [
        "# 1. SGDW"
      ]
    },
    {
      "metadata": {
        "id": "90jLLUlP8wka",
        "colab_type": "code",
        "colab": {
          "autoexec": {
            "startup": false,
            "wait_interval": 0
          }
        }
      },
      "cell_type": "code",
      "source": [
        "from SGDW import SGDW"
      ],
      "execution_count": 0,
      "outputs": []
    },
    {
      "metadata": {
        "id": "5mxjnyZV8wke",
        "colab_type": "code",
        "colab": {
          "autoexec": {
            "startup": false,
            "wait_interval": 0
          },
          "base_uri": "https://localhost:8080/",
          "height": 3209
        },
        "outputId": "182861e7-aad4-4c62-8dfe-9d9b36be0186",
        "executionInfo": {
          "status": "ok",
          "timestamp": 1532343912427,
          "user_tz": -480,
          "elapsed": 456364,
          "user": {
            "displayName": "Lu SA",
            "photoUrl": "https://lh3.googleusercontent.com/a/default-user=s128",
            "userId": "109275333798683015269"
          }
        }
      },
      "cell_type": "code",
      "source": [
        "model = Sequential()\n",
        "model.add(Dense(512, activation='relu', kernel_initializer='he_normal', input_shape=(784,)))\n",
        "model.add(Dropout(0.2))\n",
        "model.add(Dense(128, activation='relu', kernel_initializer='he_normal'))\n",
        "model.add(Dropout(0.2))\n",
        "model.add(Dense(num_classes, activation='softmax'))\n",
        "\n",
        "model.summary()\n",
        "\n",
        "b, B, T = batch_size, x_train.shape[0], epochs\n",
        "wd = 0.0025 * (b/B/T)**0.5\n",
        "\n",
        "model.compile(loss='categorical_crossentropy',\n",
        "              optimizer=SGDW(weight_decay=wd, momentum=0.9),\n",
        "              metrics=['accuracy'])\n",
        "\n",
        "history0 = model.fit(x_train, y_train,\n",
        "                    batch_size=batch_size,\n",
        "                    epochs=epochs,\n",
        "                    verbose=2, callbacks=[reduce_lr_sgd],\n",
        "                    validation_data=(x_test, y_test))"
      ],
      "execution_count": 27,
      "outputs": [
        {
          "output_type": "stream",
          "text": [
            "_________________________________________________________________\n",
            "Layer (type)                 Output Shape              Param #   \n",
            "=================================================================\n",
            "dense_19 (Dense)             (None, 512)               401920    \n",
            "_________________________________________________________________\n",
            "dropout_13 (Dropout)         (None, 512)               0         \n",
            "_________________________________________________________________\n",
            "dense_20 (Dense)             (None, 128)               65664     \n",
            "_________________________________________________________________\n",
            "dropout_14 (Dropout)         (None, 128)               0         \n",
            "_________________________________________________________________\n",
            "dense_21 (Dense)             (None, 10)                1290      \n",
            "=================================================================\n",
            "Total params: 468,874\n",
            "Trainable params: 468,874\n",
            "Non-trainable params: 0\n",
            "_________________________________________________________________\n",
            "Train on 60000 samples, validate on 10000 samples\n",
            "Epoch 1/80\n",
            " - 6s - loss: 0.6846 - acc: 0.7603 - val_loss: 0.4640 - val_acc: 0.8367\n",
            "Epoch 2/80\n",
            " - 6s - loss: 0.4588 - acc: 0.8369 - val_loss: 0.4263 - val_acc: 0.8483\n",
            "Epoch 3/80\n",
            " - 6s - loss: 0.4090 - acc: 0.8534 - val_loss: 0.3964 - val_acc: 0.8564\n",
            "Epoch 4/80\n",
            " - 6s - loss: 0.3828 - acc: 0.8623 - val_loss: 0.3957 - val_acc: 0.8555\n",
            "Epoch 5/80\n",
            " - 6s - loss: 0.3668 - acc: 0.8685 - val_loss: 0.3689 - val_acc: 0.8662\n",
            "Epoch 6/80\n",
            " - 6s - loss: 0.3475 - acc: 0.8751 - val_loss: 0.3834 - val_acc: 0.8629\n",
            "Epoch 7/80\n",
            " - 6s - loss: 0.3382 - acc: 0.8779 - val_loss: 0.3598 - val_acc: 0.8687\n",
            "Epoch 8/80\n",
            " - 6s - loss: 0.3267 - acc: 0.8813 - val_loss: 0.3537 - val_acc: 0.8706\n",
            "Epoch 9/80\n",
            " - 6s - loss: 0.3151 - acc: 0.8848 - val_loss: 0.3450 - val_acc: 0.8778\n",
            "Epoch 10/80\n",
            " - 6s - loss: 0.3077 - acc: 0.8877 - val_loss: 0.3399 - val_acc: 0.8778\n",
            "Epoch 11/80\n",
            " - 6s - loss: 0.2972 - acc: 0.8907 - val_loss: 0.3278 - val_acc: 0.8815\n",
            "Epoch 12/80\n",
            " - 6s - loss: 0.2924 - acc: 0.8924 - val_loss: 0.3428 - val_acc: 0.8747\n",
            "Epoch 13/80\n",
            " - 6s - loss: 0.2865 - acc: 0.8947 - val_loss: 0.3278 - val_acc: 0.8817\n",
            "Epoch 14/80\n",
            " - 6s - loss: 0.2785 - acc: 0.8978 - val_loss: 0.3298 - val_acc: 0.8800\n",
            "Epoch 15/80\n",
            " - 6s - loss: 0.2706 - acc: 0.9000 - val_loss: 0.3185 - val_acc: 0.8862\n",
            "Epoch 16/80\n",
            " - 6s - loss: 0.2665 - acc: 0.9016 - val_loss: 0.3292 - val_acc: 0.8792\n",
            "Epoch 17/80\n",
            " - 6s - loss: 0.2613 - acc: 0.9040 - val_loss: 0.3166 - val_acc: 0.8854\n",
            "Epoch 18/80\n",
            " - 6s - loss: 0.2563 - acc: 0.9046 - val_loss: 0.3112 - val_acc: 0.8895\n",
            "Epoch 19/80\n",
            " - 6s - loss: 0.2501 - acc: 0.9069 - val_loss: 0.3069 - val_acc: 0.8894\n",
            "Epoch 20/80\n",
            " - 6s - loss: 0.2481 - acc: 0.9079 - val_loss: 0.3133 - val_acc: 0.8897\n",
            "Epoch 21/80\n",
            " - 6s - loss: 0.2429 - acc: 0.9100 - val_loss: 0.3080 - val_acc: 0.8895\n",
            "Epoch 22/80\n",
            " - 6s - loss: 0.2407 - acc: 0.9113 - val_loss: 0.3058 - val_acc: 0.8909\n",
            "Epoch 23/80\n",
            " - 6s - loss: 0.2360 - acc: 0.9125 - val_loss: 0.3214 - val_acc: 0.8849\n",
            "Epoch 24/80\n",
            " - 6s - loss: 0.2297 - acc: 0.9150 - val_loss: 0.3077 - val_acc: 0.8933\n"
          ],
          "name": "stdout"
        },
        {
          "output_type": "stream",
          "text": [
            "Epoch 25/80\n",
            " - 6s - loss: 0.2282 - acc: 0.9161 - val_loss: 0.3031 - val_acc: 0.8931\n",
            "Epoch 26/80\n",
            " - 6s - loss: 0.2256 - acc: 0.9154 - val_loss: 0.3040 - val_acc: 0.8930\n",
            "Epoch 27/80\n",
            " - 6s - loss: 0.2193 - acc: 0.9180 - val_loss: 0.3056 - val_acc: 0.8918\n",
            "Epoch 28/80\n",
            " - 6s - loss: 0.2177 - acc: 0.9186 - val_loss: 0.2989 - val_acc: 0.8957\n",
            "Epoch 29/80\n",
            " - 6s - loss: 0.2134 - acc: 0.9199 - val_loss: 0.3058 - val_acc: 0.8915\n",
            "Epoch 30/80\n",
            " - 6s - loss: 0.2101 - acc: 0.9217 - val_loss: 0.3006 - val_acc: 0.8954\n",
            "Epoch 31/80\n",
            " - 6s - loss: 0.2074 - acc: 0.9236 - val_loss: 0.3015 - val_acc: 0.8944\n",
            "Epoch 32/80\n",
            " - 6s - loss: 0.2043 - acc: 0.9237 - val_loss: 0.2957 - val_acc: 0.8966\n",
            "Epoch 33/80\n",
            " - 6s - loss: 0.1991 - acc: 0.9259 - val_loss: 0.3047 - val_acc: 0.8926\n",
            "Epoch 34/80\n",
            " - 6s - loss: 0.1969 - acc: 0.9263 - val_loss: 0.2983 - val_acc: 0.8979\n",
            "Epoch 35/80\n",
            " - 6s - loss: 0.1950 - acc: 0.9271 - val_loss: 0.3036 - val_acc: 0.8936\n",
            "Epoch 36/80\n",
            " - 6s - loss: 0.1930 - acc: 0.9283 - val_loss: 0.3090 - val_acc: 0.8920\n",
            "Epoch 37/80\n",
            " - 6s - loss: 0.1896 - acc: 0.9289 - val_loss: 0.3037 - val_acc: 0.8953\n",
            "Epoch 38/80\n",
            " - 6s - loss: 0.1713 - acc: 0.9362 - val_loss: 0.2973 - val_acc: 0.8980\n",
            "Epoch 39/80\n",
            " - 6s - loss: 0.1664 - acc: 0.9383 - val_loss: 0.2994 - val_acc: 0.9004\n",
            "Epoch 40/80\n",
            " - 6s - loss: 0.1624 - acc: 0.9398 - val_loss: 0.2956 - val_acc: 0.8984\n",
            "Epoch 41/80\n",
            " - 6s - loss: 0.1603 - acc: 0.9409 - val_loss: 0.2885 - val_acc: 0.8993\n",
            "Epoch 42/80\n",
            " - 6s - loss: 0.1590 - acc: 0.9417 - val_loss: 0.2927 - val_acc: 0.9003\n",
            "Epoch 43/80\n",
            " - 6s - loss: 0.1568 - acc: 0.9422 - val_loss: 0.2965 - val_acc: 0.8975\n",
            "Epoch 44/80\n",
            " - 6s - loss: 0.1554 - acc: 0.9434 - val_loss: 0.2940 - val_acc: 0.8996\n",
            "Epoch 45/80\n",
            " - 5s - loss: 0.1542 - acc: 0.9427 - val_loss: 0.3022 - val_acc: 0.9001\n",
            "Epoch 46/80\n",
            " - 6s - loss: 0.1524 - acc: 0.9435 - val_loss: 0.2967 - val_acc: 0.8996\n",
            "Epoch 47/80\n",
            " - 6s - loss: 0.1426 - acc: 0.9479 - val_loss: 0.2933 - val_acc: 0.9031\n",
            "Epoch 48/80\n",
            " - 6s - loss: 0.1398 - acc: 0.9489 - val_loss: 0.2962 - val_acc: 0.9018\n",
            "Epoch 49/80\n",
            " - 6s - loss: 0.1402 - acc: 0.9486 - val_loss: 0.2953 - val_acc: 0.9033\n",
            "Epoch 50/80\n",
            " - 6s - loss: 0.1378 - acc: 0.9494 - val_loss: 0.2920 - val_acc: 0.9021\n",
            "Epoch 51/80\n",
            " - 6s - loss: 0.1372 - acc: 0.9494 - val_loss: 0.2977 - val_acc: 0.9031\n",
            "Epoch 52/80\n",
            " - 6s - loss: 0.1309 - acc: 0.9517 - val_loss: 0.2933 - val_acc: 0.9034\n",
            "Epoch 53/80\n",
            " - 6s - loss: 0.1295 - acc: 0.9529 - val_loss: 0.2953 - val_acc: 0.9019\n",
            "Epoch 54/80\n",
            " - 6s - loss: 0.1292 - acc: 0.9532 - val_loss: 0.2936 - val_acc: 0.9035\n",
            "Epoch 55/80\n",
            " - 6s - loss: 0.1294 - acc: 0.9524 - val_loss: 0.2926 - val_acc: 0.9042\n",
            "Epoch 56/80\n",
            " - 6s - loss: 0.1285 - acc: 0.9530 - val_loss: 0.2964 - val_acc: 0.9034\n",
            "Epoch 57/80\n",
            " - 6s - loss: 0.1256 - acc: 0.9536 - val_loss: 0.2935 - val_acc: 0.9039\n",
            "Epoch 58/80\n",
            " - 6s - loss: 0.1260 - acc: 0.9549 - val_loss: 0.2931 - val_acc: 0.9043\n"
          ],
          "name": "stdout"
        },
        {
          "output_type": "stream",
          "text": [
            "Epoch 59/80\n",
            " - 6s - loss: 0.1249 - acc: 0.9546 - val_loss: 0.2934 - val_acc: 0.9031\n",
            "Epoch 60/80\n",
            " - 6s - loss: 0.1246 - acc: 0.9555 - val_loss: 0.2943 - val_acc: 0.9037\n",
            "Epoch 61/80\n",
            " - 6s - loss: 0.1255 - acc: 0.9540 - val_loss: 0.2929 - val_acc: 0.9034\n",
            "Epoch 62/80\n",
            " - 6s - loss: 0.1228 - acc: 0.9554 - val_loss: 0.2923 - val_acc: 0.9040\n",
            "Epoch 63/80\n",
            " - 6s - loss: 0.1221 - acc: 0.9562 - val_loss: 0.2929 - val_acc: 0.9037\n",
            "Epoch 64/80\n",
            " - 6s - loss: 0.1222 - acc: 0.9561 - val_loss: 0.2928 - val_acc: 0.9039\n",
            "Epoch 65/80\n",
            " - 6s - loss: 0.1214 - acc: 0.9555 - val_loss: 0.2935 - val_acc: 0.9028\n",
            "Epoch 66/80\n",
            " - 6s - loss: 0.1221 - acc: 0.9557 - val_loss: 0.2928 - val_acc: 0.9031\n",
            "Epoch 67/80\n",
            " - 6s - loss: 0.1211 - acc: 0.9560 - val_loss: 0.2927 - val_acc: 0.9041\n",
            "Epoch 68/80\n",
            " - 6s - loss: 0.1217 - acc: 0.9554 - val_loss: 0.2926 - val_acc: 0.9041\n",
            "Epoch 69/80\n",
            " - 6s - loss: 0.1202 - acc: 0.9563 - val_loss: 0.2928 - val_acc: 0.9044\n",
            "Epoch 70/80\n",
            " - 6s - loss: 0.1205 - acc: 0.9564 - val_loss: 0.2935 - val_acc: 0.9035\n",
            "Epoch 71/80\n",
            " - 6s - loss: 0.1203 - acc: 0.9568 - val_loss: 0.2934 - val_acc: 0.9041\n",
            "Epoch 72/80\n",
            " - 6s - loss: 0.1199 - acc: 0.9578 - val_loss: 0.2930 - val_acc: 0.9044\n",
            "Epoch 73/80\n",
            " - 6s - loss: 0.1195 - acc: 0.9560 - val_loss: 0.2931 - val_acc: 0.9039\n",
            "Epoch 74/80\n",
            " - 6s - loss: 0.1206 - acc: 0.9568 - val_loss: 0.2935 - val_acc: 0.9034\n",
            "Epoch 75/80\n",
            " - 6s - loss: 0.1193 - acc: 0.9578 - val_loss: 0.2935 - val_acc: 0.9037\n",
            "Epoch 76/80\n",
            " - 6s - loss: 0.1205 - acc: 0.9562 - val_loss: 0.2932 - val_acc: 0.9040\n",
            "Epoch 77/80\n",
            " - 6s - loss: 0.1190 - acc: 0.9573 - val_loss: 0.2932 - val_acc: 0.9043\n",
            "Epoch 78/80\n",
            " - 6s - loss: 0.1203 - acc: 0.9567 - val_loss: 0.2934 - val_acc: 0.9039\n",
            "Epoch 79/80\n",
            " - 6s - loss: 0.1194 - acc: 0.9569 - val_loss: 0.2937 - val_acc: 0.9037\n",
            "Epoch 80/80\n",
            " - 6s - loss: 0.1195 - acc: 0.9570 - val_loss: 0.2935 - val_acc: 0.9037\n"
          ],
          "name": "stdout"
        }
      ]
    },
    {
      "metadata": {
        "id": "vcms6bab8wkm",
        "colab_type": "text"
      },
      "cell_type": "markdown",
      "source": [
        "# 2. AdamW"
      ]
    },
    {
      "metadata": {
        "id": "vt0LsWXy8wkn",
        "colab_type": "code",
        "colab": {
          "autoexec": {
            "startup": false,
            "wait_interval": 0
          }
        }
      },
      "cell_type": "code",
      "source": [
        "from AdamW import AdamW"
      ],
      "execution_count": 0,
      "outputs": []
    },
    {
      "metadata": {
        "id": "n_2iUeMO8wkv",
        "colab_type": "code",
        "colab": {
          "autoexec": {
            "startup": false,
            "wait_interval": 0
          },
          "base_uri": "https://localhost:8080/",
          "height": 3209
        },
        "outputId": "39fa47ae-e676-4b7b-fe63-8f662bc928c9",
        "executionInfo": {
          "status": "ok",
          "timestamp": 1532341255661,
          "user_tz": -480,
          "elapsed": 583884,
          "user": {
            "displayName": "Lu SA",
            "photoUrl": "https://lh3.googleusercontent.com/a/default-user=s128",
            "userId": "109275333798683015269"
          }
        }
      },
      "cell_type": "code",
      "source": [
        "model = Sequential()\n",
        "model.add(Dense(512, activation='relu', kernel_initializer='he_normal', input_shape=(784,)))\n",
        "model.add(Dropout(0.2))\n",
        "model.add(Dense(128, activation='relu', kernel_initializer='he_normal'))\n",
        "model.add(Dropout(0.2))\n",
        "model.add(Dense(num_classes, activation='softmax'))\n",
        "\n",
        "model.summary()\n",
        "\n",
        "b, B, T = batch_size, x_train.shape[0], epochs\n",
        "wd = 0.005 * (b/B/T)**0.5\n",
        "\n",
        "model.compile(loss='categorical_crossentropy',\n",
        "              optimizer=AdamW(weight_decay=wd),\n",
        "              metrics=['accuracy'])\n",
        "\n",
        "history1 = model.fit(x_train, y_train,\n",
        "                    batch_size=batch_size,\n",
        "                    epochs=epochs,\n",
        "                    verbose=2, callbacks=[reduce_lr_adam],\n",
        "                    validation_data=(x_test, y_test))"
      ],
      "execution_count": 7,
      "outputs": [
        {
          "output_type": "stream",
          "text": [
            "_________________________________________________________________\n",
            "Layer (type)                 Output Shape              Param #   \n",
            "=================================================================\n",
            "dense_4 (Dense)              (None, 512)               401920    \n",
            "_________________________________________________________________\n",
            "dropout_3 (Dropout)          (None, 512)               0         \n",
            "_________________________________________________________________\n",
            "dense_5 (Dense)              (None, 128)               65664     \n",
            "_________________________________________________________________\n",
            "dropout_4 (Dropout)          (None, 128)               0         \n",
            "_________________________________________________________________\n",
            "dense_6 (Dense)              (None, 10)                1290      \n",
            "=================================================================\n",
            "Total params: 468,874\n",
            "Trainable params: 468,874\n",
            "Non-trainable params: 0\n",
            "_________________________________________________________________\n",
            "Train on 60000 samples, validate on 10000 samples\n",
            "Epoch 1/80\n",
            " - 8s - loss: 0.5461 - acc: 0.8063 - val_loss: 0.4346 - val_acc: 0.8422\n",
            "Epoch 2/80\n",
            " - 7s - loss: 0.3960 - acc: 0.8541 - val_loss: 0.4008 - val_acc: 0.8537\n",
            "Epoch 3/80\n",
            " - 7s - loss: 0.3577 - acc: 0.8695 - val_loss: 0.3696 - val_acc: 0.8652\n",
            "Epoch 4/80\n",
            " - 7s - loss: 0.3359 - acc: 0.8767 - val_loss: 0.3464 - val_acc: 0.8729\n",
            "Epoch 5/80\n",
            " - 7s - loss: 0.3169 - acc: 0.8837 - val_loss: 0.3355 - val_acc: 0.8786\n",
            "Epoch 6/80\n",
            " - 7s - loss: 0.3033 - acc: 0.8878 - val_loss: 0.3550 - val_acc: 0.8741\n",
            "Epoch 7/80\n",
            " - 7s - loss: 0.2948 - acc: 0.8895 - val_loss: 0.3359 - val_acc: 0.8747\n",
            "Epoch 8/80\n",
            " - 7s - loss: 0.2855 - acc: 0.8932 - val_loss: 0.3401 - val_acc: 0.8749\n",
            "Epoch 9/80\n",
            " - 7s - loss: 0.2756 - acc: 0.8975 - val_loss: 0.3462 - val_acc: 0.8789\n",
            "Epoch 10/80\n",
            " - 7s - loss: 0.2703 - acc: 0.8974 - val_loss: 0.3241 - val_acc: 0.8831\n",
            "Epoch 11/80\n",
            " - 7s - loss: 0.2610 - acc: 0.9022 - val_loss: 0.3221 - val_acc: 0.8877\n",
            "Epoch 12/80\n",
            " - 7s - loss: 0.2558 - acc: 0.9038 - val_loss: 0.3100 - val_acc: 0.8907\n",
            "Epoch 13/80\n",
            " - 7s - loss: 0.2519 - acc: 0.9056 - val_loss: 0.3164 - val_acc: 0.8883\n",
            "Epoch 14/80\n",
            " - 7s - loss: 0.2495 - acc: 0.9063 - val_loss: 0.3097 - val_acc: 0.8906\n",
            "Epoch 15/80\n",
            " - 7s - loss: 0.2424 - acc: 0.9093 - val_loss: 0.3074 - val_acc: 0.8901\n",
            "Epoch 16/80\n",
            " - 7s - loss: 0.2372 - acc: 0.9089 - val_loss: 0.3146 - val_acc: 0.8917\n",
            "Epoch 17/80\n",
            " - 7s - loss: 0.2298 - acc: 0.9115 - val_loss: 0.3138 - val_acc: 0.8895\n",
            "Epoch 18/80\n",
            " - 7s - loss: 0.2288 - acc: 0.9138 - val_loss: 0.3138 - val_acc: 0.8860\n",
            "Epoch 19/80\n",
            " - 7s - loss: 0.2229 - acc: 0.9153 - val_loss: 0.3110 - val_acc: 0.8891\n",
            "Epoch 20/80\n",
            " - 7s - loss: 0.2207 - acc: 0.9166 - val_loss: 0.3198 - val_acc: 0.8911\n",
            "Epoch 21/80\n",
            " - 7s - loss: 0.1934 - acc: 0.9262 - val_loss: 0.2970 - val_acc: 0.9010\n",
            "Epoch 22/80\n",
            " - 7s - loss: 0.1841 - acc: 0.9293 - val_loss: 0.3005 - val_acc: 0.9010\n",
            "Epoch 23/80\n",
            " - 7s - loss: 0.1803 - acc: 0.9303 - val_loss: 0.3037 - val_acc: 0.8984\n",
            "Epoch 24/80\n",
            " - 7s - loss: 0.1781 - acc: 0.9314 - val_loss: 0.3059 - val_acc: 0.8988\n"
          ],
          "name": "stdout"
        },
        {
          "output_type": "stream",
          "text": [
            "Epoch 25/80\n",
            " - 7s - loss: 0.1749 - acc: 0.9334 - val_loss: 0.3032 - val_acc: 0.8996\n",
            "Epoch 26/80\n",
            " - 7s - loss: 0.1732 - acc: 0.9322 - val_loss: 0.3039 - val_acc: 0.8976\n",
            "Epoch 27/80\n",
            " - 7s - loss: 0.1555 - acc: 0.9408 - val_loss: 0.3020 - val_acc: 0.9006\n",
            "Epoch 28/80\n",
            " - 7s - loss: 0.1520 - acc: 0.9417 - val_loss: 0.3020 - val_acc: 0.9026\n",
            "Epoch 29/80\n",
            " - 7s - loss: 0.1508 - acc: 0.9424 - val_loss: 0.2934 - val_acc: 0.9034\n",
            "Epoch 30/80\n",
            " - 7s - loss: 0.1470 - acc: 0.9431 - val_loss: 0.3032 - val_acc: 0.9037\n",
            "Epoch 31/80\n",
            " - 7s - loss: 0.1463 - acc: 0.9432 - val_loss: 0.3001 - val_acc: 0.9033\n",
            "Epoch 32/80\n",
            " - 7s - loss: 0.1420 - acc: 0.9456 - val_loss: 0.3064 - val_acc: 0.9017\n",
            "Epoch 33/80\n",
            " - 7s - loss: 0.1424 - acc: 0.9454 - val_loss: 0.2986 - val_acc: 0.9058\n",
            "Epoch 34/80\n",
            " - 7s - loss: 0.1410 - acc: 0.9463 - val_loss: 0.3068 - val_acc: 0.9030\n",
            "Epoch 35/80\n",
            " - 7s - loss: 0.1315 - acc: 0.9502 - val_loss: 0.3003 - val_acc: 0.9054\n",
            "Epoch 36/80\n",
            " - 7s - loss: 0.1296 - acc: 0.9504 - val_loss: 0.2992 - val_acc: 0.9052\n",
            "Epoch 37/80\n",
            " - 7s - loss: 0.1293 - acc: 0.9513 - val_loss: 0.3029 - val_acc: 0.9041\n",
            "Epoch 38/80\n",
            " - 7s - loss: 0.1261 - acc: 0.9535 - val_loss: 0.3020 - val_acc: 0.9067\n",
            "Epoch 39/80\n",
            " - 7s - loss: 0.1265 - acc: 0.9520 - val_loss: 0.3013 - val_acc: 0.9064\n",
            "Epoch 40/80\n",
            " - 7s - loss: 0.1215 - acc: 0.9549 - val_loss: 0.2983 - val_acc: 0.9070\n",
            "Epoch 41/80\n",
            " - 7s - loss: 0.1209 - acc: 0.9549 - val_loss: 0.3019 - val_acc: 0.9044\n",
            "Epoch 42/80\n",
            " - 7s - loss: 0.1211 - acc: 0.9547 - val_loss: 0.3000 - val_acc: 0.9053\n",
            "Epoch 43/80\n",
            " - 7s - loss: 0.1202 - acc: 0.9549 - val_loss: 0.2967 - val_acc: 0.9053\n",
            "Epoch 44/80\n",
            " - 7s - loss: 0.1195 - acc: 0.9551 - val_loss: 0.2977 - val_acc: 0.9082\n",
            "Epoch 45/80\n",
            " - 7s - loss: 0.1186 - acc: 0.9568 - val_loss: 0.2958 - val_acc: 0.9070\n",
            "Epoch 46/80\n",
            " - 7s - loss: 0.1207 - acc: 0.9552 - val_loss: 0.2926 - val_acc: 0.9063\n",
            "Epoch 47/80\n",
            " - 7s - loss: 0.1189 - acc: 0.9566 - val_loss: 0.2907 - val_acc: 0.9081\n",
            "Epoch 48/80\n",
            " - 7s - loss: 0.1194 - acc: 0.9560 - val_loss: 0.2912 - val_acc: 0.9074\n",
            "Epoch 49/80\n",
            " - 7s - loss: 0.1214 - acc: 0.9561 - val_loss: 0.2884 - val_acc: 0.9075\n",
            "Epoch 50/80\n",
            " - 7s - loss: 0.1209 - acc: 0.9562 - val_loss: 0.2885 - val_acc: 0.9077\n",
            "Epoch 51/80\n",
            " - 7s - loss: 0.1218 - acc: 0.9553 - val_loss: 0.2885 - val_acc: 0.9078\n",
            "Epoch 52/80\n",
            " - 7s - loss: 0.1205 - acc: 0.9563 - val_loss: 0.2894 - val_acc: 0.9067\n",
            "Epoch 53/80\n",
            " - 7s - loss: 0.1237 - acc: 0.9557 - val_loss: 0.2849 - val_acc: 0.9073\n",
            "Epoch 54/80\n",
            " - 7s - loss: 0.1228 - acc: 0.9556 - val_loss: 0.2847 - val_acc: 0.9077\n",
            "Epoch 55/80\n",
            " - 7s - loss: 0.1243 - acc: 0.9545 - val_loss: 0.2846 - val_acc: 0.9077\n",
            "Epoch 56/80\n",
            " - 7s - loss: 0.1239 - acc: 0.9561 - val_loss: 0.2834 - val_acc: 0.9070\n",
            "Epoch 57/80\n",
            " - 7s - loss: 0.1250 - acc: 0.9551 - val_loss: 0.2833 - val_acc: 0.9082\n",
            "Epoch 58/80\n",
            " - 7s - loss: 0.1245 - acc: 0.9556 - val_loss: 0.2843 - val_acc: 0.9070\n"
          ],
          "name": "stdout"
        },
        {
          "output_type": "stream",
          "text": [
            "Epoch 59/80\n",
            " - 7s - loss: 0.1252 - acc: 0.9554 - val_loss: 0.2827 - val_acc: 0.9064\n",
            "Epoch 60/80\n",
            " - 7s - loss: 0.1254 - acc: 0.9551 - val_loss: 0.2831 - val_acc: 0.9052\n",
            "Epoch 61/80\n",
            " - 7s - loss: 0.1250 - acc: 0.9549 - val_loss: 0.2813 - val_acc: 0.9069\n",
            "Epoch 62/80\n",
            " - 7s - loss: 0.1256 - acc: 0.9555 - val_loss: 0.2807 - val_acc: 0.9080\n",
            "Epoch 63/80\n",
            " - 7s - loss: 0.1256 - acc: 0.9556 - val_loss: 0.2802 - val_acc: 0.9068\n",
            "Epoch 64/80\n",
            " - 7s - loss: 0.1275 - acc: 0.9551 - val_loss: 0.2809 - val_acc: 0.9070\n",
            "Epoch 65/80\n",
            " - 7s - loss: 0.1277 - acc: 0.9546 - val_loss: 0.2791 - val_acc: 0.9066\n",
            "Epoch 66/80\n",
            " - 7s - loss: 0.1289 - acc: 0.9549 - val_loss: 0.2804 - val_acc: 0.9066\n",
            "Epoch 67/80\n",
            " - 7s - loss: 0.1282 - acc: 0.9546 - val_loss: 0.2801 - val_acc: 0.9063\n",
            "Epoch 68/80\n",
            " - 7s - loss: 0.1289 - acc: 0.9542 - val_loss: 0.2808 - val_acc: 0.9066\n",
            "Epoch 69/80\n",
            " - 7s - loss: 0.1292 - acc: 0.9545 - val_loss: 0.2803 - val_acc: 0.9060\n",
            "Epoch 70/80\n",
            " - 7s - loss: 0.1299 - acc: 0.9547 - val_loss: 0.2785 - val_acc: 0.9068\n",
            "Epoch 71/80\n",
            " - 7s - loss: 0.1321 - acc: 0.9542 - val_loss: 0.2776 - val_acc: 0.9070\n",
            "Epoch 72/80\n",
            " - 7s - loss: 0.1300 - acc: 0.9551 - val_loss: 0.2793 - val_acc: 0.9071\n",
            "Epoch 73/80\n",
            " - 7s - loss: 0.1307 - acc: 0.9546 - val_loss: 0.2804 - val_acc: 0.9052\n",
            "Epoch 74/80\n",
            " - 7s - loss: 0.1324 - acc: 0.9536 - val_loss: 0.2767 - val_acc: 0.9064\n",
            "Epoch 75/80\n",
            " - 7s - loss: 0.1317 - acc: 0.9545 - val_loss: 0.2782 - val_acc: 0.9058\n",
            "Epoch 76/80\n",
            " - 7s - loss: 0.1328 - acc: 0.9536 - val_loss: 0.2780 - val_acc: 0.9051\n",
            "Epoch 77/80\n",
            " - 7s - loss: 0.1329 - acc: 0.9536 - val_loss: 0.2782 - val_acc: 0.9055\n",
            "Epoch 78/80\n",
            " - 7s - loss: 0.1346 - acc: 0.9526 - val_loss: 0.2774 - val_acc: 0.9057\n",
            "Epoch 79/80\n",
            " - 7s - loss: 0.1334 - acc: 0.9544 - val_loss: 0.2782 - val_acc: 0.9062\n",
            "Epoch 80/80\n",
            " - 7s - loss: 0.1338 - acc: 0.9544 - val_loss: 0.2755 - val_acc: 0.9058\n"
          ],
          "name": "stdout"
        }
      ]
    },
    {
      "metadata": {
        "id": "XwOXF6T-8wk-",
        "colab_type": "text"
      },
      "cell_type": "markdown",
      "source": [
        "# 3. SGD"
      ]
    },
    {
      "metadata": {
        "id": "UM2V3FtB8wlE",
        "colab_type": "code",
        "colab": {
          "autoexec": {
            "startup": false,
            "wait_interval": 0
          }
        }
      },
      "cell_type": "code",
      "source": [
        "from keras.optimizers import SGD\n",
        "from keras.layers import *"
      ],
      "execution_count": 0,
      "outputs": []
    },
    {
      "metadata": {
        "id": "esZS42LaMg97",
        "colab_type": "code",
        "colab": {
          "autoexec": {
            "startup": false,
            "wait_interval": 0
          },
          "base_uri": "https://localhost:8080/",
          "height": 3209
        },
        "outputId": "6438691d-690d-49c0-d698-b206ef139d87",
        "executionInfo": {
          "status": "ok",
          "timestamp": 1532344344153,
          "user_tz": -480,
          "elapsed": 431649,
          "user": {
            "displayName": "Lu SA",
            "photoUrl": "https://lh3.googleusercontent.com/a/default-user=s128",
            "userId": "109275333798683015269"
          }
        }
      },
      "cell_type": "code",
      "source": [
        "model = Sequential()\n",
        "model.add(Dense(512, activation='relu', kernel_initializer='he_normal', input_shape=(784,)))\n",
        "model.add(Dropout(0.2))\n",
        "model.add(Dense(128, activation='relu', kernel_initializer='he_normal'))\n",
        "model.add(Dropout(0.2))\n",
        "model.add(Dense(num_classes, activation='softmax'))\n",
        "\n",
        "model.summary()\n",
        "\n",
        "model.compile(loss='categorical_crossentropy',\n",
        "              optimizer=SGD(momentum=0.9),\n",
        "              metrics=['accuracy'])\n",
        "\n",
        "history2 = model.fit(x_train, y_train,\n",
        "                    batch_size=batch_size,\n",
        "                    epochs=epochs,\n",
        "                    verbose=2, callbacks=[reduce_lr_sgd],\n",
        "                    validation_data=(x_test, y_test))"
      ],
      "execution_count": 28,
      "outputs": [
        {
          "output_type": "stream",
          "text": [
            "_________________________________________________________________\n",
            "Layer (type)                 Output Shape              Param #   \n",
            "=================================================================\n",
            "dense_22 (Dense)             (None, 512)               401920    \n",
            "_________________________________________________________________\n",
            "dropout_15 (Dropout)         (None, 512)               0         \n",
            "_________________________________________________________________\n",
            "dense_23 (Dense)             (None, 128)               65664     \n",
            "_________________________________________________________________\n",
            "dropout_16 (Dropout)         (None, 128)               0         \n",
            "_________________________________________________________________\n",
            "dense_24 (Dense)             (None, 10)                1290      \n",
            "=================================================================\n",
            "Total params: 468,874\n",
            "Trainable params: 468,874\n",
            "Non-trainable params: 0\n",
            "_________________________________________________________________\n",
            "Train on 60000 samples, validate on 10000 samples\n",
            "Epoch 1/80\n",
            " - 6s - loss: 0.6849 - acc: 0.7603 - val_loss: 0.4726 - val_acc: 0.8333\n",
            "Epoch 2/80\n",
            " - 5s - loss: 0.4579 - acc: 0.8377 - val_loss: 0.4242 - val_acc: 0.8472\n",
            "Epoch 3/80\n",
            " - 5s - loss: 0.4144 - acc: 0.8517 - val_loss: 0.4002 - val_acc: 0.8540\n",
            "Epoch 4/80\n",
            " - 5s - loss: 0.3826 - acc: 0.8630 - val_loss: 0.4039 - val_acc: 0.8505\n",
            "Epoch 5/80\n",
            " - 5s - loss: 0.3651 - acc: 0.8690 - val_loss: 0.3658 - val_acc: 0.8669\n",
            "Epoch 6/80\n",
            " - 5s - loss: 0.3515 - acc: 0.8720 - val_loss: 0.3586 - val_acc: 0.8699\n",
            "Epoch 7/80\n",
            " - 5s - loss: 0.3364 - acc: 0.8784 - val_loss: 0.3511 - val_acc: 0.8712\n",
            "Epoch 8/80\n",
            " - 5s - loss: 0.3261 - acc: 0.8810 - val_loss: 0.3456 - val_acc: 0.8761\n",
            "Epoch 9/80\n",
            " - 5s - loss: 0.3174 - acc: 0.8842 - val_loss: 0.3444 - val_acc: 0.8765\n",
            "Epoch 10/80\n",
            " - 5s - loss: 0.3099 - acc: 0.8876 - val_loss: 0.3460 - val_acc: 0.8747\n",
            "Epoch 11/80\n",
            " - 5s - loss: 0.3015 - acc: 0.8909 - val_loss: 0.3385 - val_acc: 0.8771\n",
            "Epoch 12/80\n",
            " - 5s - loss: 0.2941 - acc: 0.8924 - val_loss: 0.3286 - val_acc: 0.8839\n",
            "Epoch 13/80\n",
            " - 5s - loss: 0.2867 - acc: 0.8942 - val_loss: 0.3338 - val_acc: 0.8805\n",
            "Epoch 14/80\n",
            " - 5s - loss: 0.2781 - acc: 0.8983 - val_loss: 0.3233 - val_acc: 0.8838\n",
            "Epoch 15/80\n",
            " - 5s - loss: 0.2735 - acc: 0.8985 - val_loss: 0.3230 - val_acc: 0.8838\n",
            "Epoch 16/80\n",
            " - 5s - loss: 0.2672 - acc: 0.9012 - val_loss: 0.3307 - val_acc: 0.8803\n",
            "Epoch 17/80\n",
            " - 5s - loss: 0.2637 - acc: 0.9024 - val_loss: 0.3196 - val_acc: 0.8833\n",
            "Epoch 18/80\n",
            " - 5s - loss: 0.2590 - acc: 0.9040 - val_loss: 0.3185 - val_acc: 0.8885\n",
            "Epoch 19/80\n",
            " - 5s - loss: 0.2549 - acc: 0.9057 - val_loss: 0.3147 - val_acc: 0.8897\n",
            "Epoch 20/80\n",
            " - 5s - loss: 0.2480 - acc: 0.9073 - val_loss: 0.3092 - val_acc: 0.8897\n",
            "Epoch 21/80\n",
            " - 5s - loss: 0.2440 - acc: 0.9100 - val_loss: 0.3108 - val_acc: 0.8875\n",
            "Epoch 22/80\n",
            " - 5s - loss: 0.2397 - acc: 0.9103 - val_loss: 0.3089 - val_acc: 0.8912\n",
            "Epoch 23/80\n",
            " - 5s - loss: 0.2363 - acc: 0.9133 - val_loss: 0.3059 - val_acc: 0.8918\n",
            "Epoch 24/80\n",
            " - 5s - loss: 0.2314 - acc: 0.9142 - val_loss: 0.3024 - val_acc: 0.8919\n"
          ],
          "name": "stdout"
        },
        {
          "output_type": "stream",
          "text": [
            "Epoch 25/80\n",
            " - 5s - loss: 0.2286 - acc: 0.9146 - val_loss: 0.3066 - val_acc: 0.8903\n",
            "Epoch 26/80\n",
            " - 5s - loss: 0.2219 - acc: 0.9179 - val_loss: 0.3062 - val_acc: 0.8911\n",
            "Epoch 27/80\n",
            " - 5s - loss: 0.2181 - acc: 0.9188 - val_loss: 0.3051 - val_acc: 0.8936\n",
            "Epoch 28/80\n",
            " - 5s - loss: 0.2193 - acc: 0.9187 - val_loss: 0.3050 - val_acc: 0.8941\n",
            "Epoch 29/80\n",
            " - 5s - loss: 0.2134 - acc: 0.9209 - val_loss: 0.2995 - val_acc: 0.8928\n",
            "Epoch 30/80\n",
            " - 5s - loss: 0.2119 - acc: 0.9210 - val_loss: 0.3051 - val_acc: 0.8956\n",
            "Epoch 31/80\n",
            " - 5s - loss: 0.2067 - acc: 0.9227 - val_loss: 0.3034 - val_acc: 0.8944\n",
            "Epoch 32/80\n",
            " - 5s - loss: 0.2029 - acc: 0.9242 - val_loss: 0.3075 - val_acc: 0.8939\n",
            "Epoch 33/80\n",
            " - 5s - loss: 0.2015 - acc: 0.9257 - val_loss: 0.3019 - val_acc: 0.8930\n",
            "Epoch 34/80\n",
            " - 5s - loss: 0.1969 - acc: 0.9277 - val_loss: 0.3083 - val_acc: 0.8932\n",
            "Epoch 35/80\n",
            " - 5s - loss: 0.1807 - acc: 0.9333 - val_loss: 0.2971 - val_acc: 0.9011\n",
            "Epoch 36/80\n",
            " - 5s - loss: 0.1752 - acc: 0.9350 - val_loss: 0.2993 - val_acc: 0.8980\n",
            "Epoch 37/80\n",
            " - 5s - loss: 0.1730 - acc: 0.9353 - val_loss: 0.2995 - val_acc: 0.8976\n",
            "Epoch 38/80\n",
            " - 5s - loss: 0.1696 - acc: 0.9374 - val_loss: 0.3011 - val_acc: 0.8975\n",
            "Epoch 39/80\n",
            " - 5s - loss: 0.1694 - acc: 0.9371 - val_loss: 0.2962 - val_acc: 0.8976\n",
            "Epoch 40/80\n",
            " - 5s - loss: 0.1678 - acc: 0.9388 - val_loss: 0.2984 - val_acc: 0.8977\n",
            "Epoch 41/80\n",
            " - 5s - loss: 0.1654 - acc: 0.9388 - val_loss: 0.2959 - val_acc: 0.8997\n",
            "Epoch 42/80\n",
            " - 5s - loss: 0.1630 - acc: 0.9389 - val_loss: 0.2988 - val_acc: 0.8988\n",
            "Epoch 43/80\n",
            " - 5s - loss: 0.1598 - acc: 0.9408 - val_loss: 0.3018 - val_acc: 0.8999\n",
            "Epoch 44/80\n",
            " - 5s - loss: 0.1592 - acc: 0.9409 - val_loss: 0.3041 - val_acc: 0.8985\n",
            "Epoch 45/80\n",
            " - 5s - loss: 0.1581 - acc: 0.9409 - val_loss: 0.3018 - val_acc: 0.9006\n",
            "Epoch 46/80\n",
            " - 5s - loss: 0.1565 - acc: 0.9421 - val_loss: 0.3011 - val_acc: 0.8986\n",
            "Epoch 47/80\n",
            " - 5s - loss: 0.1461 - acc: 0.9459 - val_loss: 0.3024 - val_acc: 0.8986\n",
            "Epoch 48/80\n",
            " - 5s - loss: 0.1428 - acc: 0.9479 - val_loss: 0.2972 - val_acc: 0.9021\n",
            "Epoch 49/80\n",
            " - 5s - loss: 0.1415 - acc: 0.9468 - val_loss: 0.2992 - val_acc: 0.9017\n",
            "Epoch 50/80\n",
            " - 5s - loss: 0.1398 - acc: 0.9481 - val_loss: 0.3012 - val_acc: 0.9025\n",
            "Epoch 51/80\n",
            " - 5s - loss: 0.1381 - acc: 0.9485 - val_loss: 0.3012 - val_acc: 0.9032\n",
            "Epoch 52/80\n",
            " - 5s - loss: 0.1339 - acc: 0.9515 - val_loss: 0.2963 - val_acc: 0.9043\n",
            "Epoch 53/80\n",
            " - 5s - loss: 0.1327 - acc: 0.9521 - val_loss: 0.2964 - val_acc: 0.9039\n",
            "Epoch 54/80\n",
            " - 5s - loss: 0.1332 - acc: 0.9514 - val_loss: 0.2968 - val_acc: 0.9023\n",
            "Epoch 55/80\n",
            " - 5s - loss: 0.1324 - acc: 0.9522 - val_loss: 0.2954 - val_acc: 0.9037\n",
            "Epoch 56/80\n",
            " - 5s - loss: 0.1313 - acc: 0.9520 - val_loss: 0.2972 - val_acc: 0.9037\n",
            "Epoch 57/80\n",
            " - 5s - loss: 0.1297 - acc: 0.9522 - val_loss: 0.2983 - val_acc: 0.9031\n",
            "Epoch 58/80\n",
            " - 5s - loss: 0.1300 - acc: 0.9530 - val_loss: 0.2998 - val_acc: 0.9025\n"
          ],
          "name": "stdout"
        },
        {
          "output_type": "stream",
          "text": [
            "Epoch 59/80\n",
            " - 5s - loss: 0.1292 - acc: 0.9529 - val_loss: 0.3018 - val_acc: 0.9028\n",
            "Epoch 60/80\n",
            " - 5s - loss: 0.1293 - acc: 0.9527 - val_loss: 0.2983 - val_acc: 0.9035\n",
            "Epoch 61/80\n",
            " - 5s - loss: 0.1245 - acc: 0.9554 - val_loss: 0.2986 - val_acc: 0.9039\n",
            "Epoch 62/80\n",
            " - 5s - loss: 0.1274 - acc: 0.9537 - val_loss: 0.2974 - val_acc: 0.9042\n",
            "Epoch 63/80\n",
            " - 5s - loss: 0.1245 - acc: 0.9547 - val_loss: 0.2968 - val_acc: 0.9037\n",
            "Epoch 64/80\n",
            " - 5s - loss: 0.1239 - acc: 0.9546 - val_loss: 0.2987 - val_acc: 0.9026\n",
            "Epoch 65/80\n",
            " - 5s - loss: 0.1234 - acc: 0.9553 - val_loss: 0.2988 - val_acc: 0.9035\n",
            "Epoch 66/80\n",
            " - 5s - loss: 0.1235 - acc: 0.9552 - val_loss: 0.2982 - val_acc: 0.9041\n",
            "Epoch 67/80\n",
            " - 5s - loss: 0.1218 - acc: 0.9555 - val_loss: 0.2995 - val_acc: 0.9041\n",
            "Epoch 68/80\n",
            " - 5s - loss: 0.1245 - acc: 0.9548 - val_loss: 0.2988 - val_acc: 0.9038\n",
            "Epoch 69/80\n",
            " - 5s - loss: 0.1208 - acc: 0.9554 - val_loss: 0.2990 - val_acc: 0.9041\n",
            "Epoch 70/80\n",
            " - 5s - loss: 0.1208 - acc: 0.9561 - val_loss: 0.2986 - val_acc: 0.9042\n",
            "Epoch 71/80\n",
            " - 5s - loss: 0.1213 - acc: 0.9568 - val_loss: 0.2989 - val_acc: 0.9037\n",
            "Epoch 72/80\n",
            " - 5s - loss: 0.1208 - acc: 0.9565 - val_loss: 0.2989 - val_acc: 0.9044\n",
            "Epoch 73/80\n",
            " - 5s - loss: 0.1200 - acc: 0.9560 - val_loss: 0.2995 - val_acc: 0.9044\n",
            "Epoch 74/80\n",
            " - 5s - loss: 0.1215 - acc: 0.9566 - val_loss: 0.2989 - val_acc: 0.9039\n",
            "Epoch 75/80\n",
            " - 5s - loss: 0.1204 - acc: 0.9563 - val_loss: 0.2992 - val_acc: 0.9035\n",
            "Epoch 76/80\n",
            " - 5s - loss: 0.1202 - acc: 0.9564 - val_loss: 0.2989 - val_acc: 0.9038\n",
            "Epoch 77/80\n",
            " - 5s - loss: 0.1195 - acc: 0.9566 - val_loss: 0.2993 - val_acc: 0.9041\n",
            "Epoch 78/80\n",
            " - 5s - loss: 0.1208 - acc: 0.9566 - val_loss: 0.2996 - val_acc: 0.9040\n",
            "Epoch 79/80\n",
            " - 5s - loss: 0.1200 - acc: 0.9571 - val_loss: 0.2994 - val_acc: 0.9039\n",
            "Epoch 80/80\n",
            " - 5s - loss: 0.1201 - acc: 0.9562 - val_loss: 0.2994 - val_acc: 0.9043\n"
          ],
          "name": "stdout"
        }
      ]
    },
    {
      "metadata": {
        "id": "9j45fnYT8wlT",
        "colab_type": "text"
      },
      "cell_type": "markdown",
      "source": [
        "# 4. Adam"
      ]
    },
    {
      "metadata": {
        "id": "6Jax7RCE8wlT",
        "colab_type": "code",
        "colab": {
          "autoexec": {
            "startup": false,
            "wait_interval": 0
          }
        }
      },
      "cell_type": "code",
      "source": [
        "from keras.optimizers import Adam"
      ],
      "execution_count": 0,
      "outputs": []
    },
    {
      "metadata": {
        "id": "iW4X2IHp8wlZ",
        "colab_type": "code",
        "colab": {
          "autoexec": {
            "startup": false,
            "wait_interval": 0
          },
          "base_uri": "https://localhost:8080/",
          "height": 3209
        },
        "outputId": "3bf977d5-7e9c-462e-b7c2-ec39bbfed11e",
        "executionInfo": {
          "status": "ok",
          "timestamp": 1532342687205,
          "user_tz": -480,
          "elapsed": 549158,
          "user": {
            "displayName": "Lu SA",
            "photoUrl": "https://lh3.googleusercontent.com/a/default-user=s128",
            "userId": "109275333798683015269"
          }
        }
      },
      "cell_type": "code",
      "source": [
        "model = Sequential()\n",
        "model.add(Dense(512, activation='relu', kernel_initializer='he_normal', input_shape=(784,)))\n",
        "model.add(Dropout(0.2))\n",
        "model.add(Dense(128, activation='relu', kernel_initializer='he_normal'))\n",
        "model.add(Dropout(0.2))\n",
        "model.add(Dense(num_classes, activation='softmax'))\n",
        "\n",
        "model.summary()\n",
        "\n",
        "model.compile(loss='categorical_crossentropy',\n",
        "              optimizer=Adam(),\n",
        "              metrics=['accuracy'])\n",
        "\n",
        "history3 = model.fit(x_train, y_train,\n",
        "                    batch_size=batch_size,\n",
        "                    epochs=epochs,\n",
        "                    verbose=2, callbacks=[reduce_lr_adam],\n",
        "                    validation_data=(x_test, y_test))"
      ],
      "execution_count": 13,
      "outputs": [
        {
          "output_type": "stream",
          "text": [
            "_________________________________________________________________\n",
            "Layer (type)                 Output Shape              Param #   \n",
            "=================================================================\n",
            "dense_13 (Dense)             (None, 512)               401920    \n",
            "_________________________________________________________________\n",
            "dropout_9 (Dropout)          (None, 512)               0         \n",
            "_________________________________________________________________\n",
            "dense_14 (Dense)             (None, 128)               65664     \n",
            "_________________________________________________________________\n",
            "dropout_10 (Dropout)         (None, 128)               0         \n",
            "_________________________________________________________________\n",
            "dense_15 (Dense)             (None, 10)                1290      \n",
            "=================================================================\n",
            "Total params: 468,874\n",
            "Trainable params: 468,874\n",
            "Non-trainable params: 0\n",
            "_________________________________________________________________\n",
            "Train on 60000 samples, validate on 10000 samples\n",
            "Epoch 1/80\n",
            " - 7s - loss: 0.5509 - acc: 0.8038 - val_loss: 0.4276 - val_acc: 0.8484\n",
            "Epoch 2/80\n",
            " - 7s - loss: 0.3963 - acc: 0.8565 - val_loss: 0.3910 - val_acc: 0.8628\n",
            "Epoch 3/80\n",
            " - 7s - loss: 0.3570 - acc: 0.8703 - val_loss: 0.3672 - val_acc: 0.8695\n",
            "Epoch 4/80\n",
            " - 7s - loss: 0.3354 - acc: 0.8770 - val_loss: 0.3499 - val_acc: 0.8726\n",
            "Epoch 5/80\n",
            " - 7s - loss: 0.3172 - acc: 0.8831 - val_loss: 0.3424 - val_acc: 0.8758\n",
            "Epoch 6/80\n",
            " - 7s - loss: 0.3016 - acc: 0.8870 - val_loss: 0.3521 - val_acc: 0.8712\n",
            "Epoch 7/80\n",
            " - 7s - loss: 0.2949 - acc: 0.8907 - val_loss: 0.3411 - val_acc: 0.8747\n",
            "Epoch 8/80\n",
            " - 7s - loss: 0.2841 - acc: 0.8951 - val_loss: 0.3363 - val_acc: 0.8777\n",
            "Epoch 9/80\n",
            " - 7s - loss: 0.2753 - acc: 0.8965 - val_loss: 0.3417 - val_acc: 0.8780\n",
            "Epoch 10/80\n",
            " - 7s - loss: 0.2655 - acc: 0.8999 - val_loss: 0.3173 - val_acc: 0.8848\n",
            "Epoch 11/80\n",
            " - 7s - loss: 0.2592 - acc: 0.9021 - val_loss: 0.3182 - val_acc: 0.8880\n",
            "Epoch 12/80\n",
            " - 7s - loss: 0.2549 - acc: 0.9036 - val_loss: 0.3173 - val_acc: 0.8875\n",
            "Epoch 13/80\n",
            " - 7s - loss: 0.2471 - acc: 0.9073 - val_loss: 0.3276 - val_acc: 0.8850\n",
            "Epoch 14/80\n",
            " - 7s - loss: 0.2397 - acc: 0.9091 - val_loss: 0.3071 - val_acc: 0.8931\n",
            "Epoch 15/80\n",
            " - 7s - loss: 0.2363 - acc: 0.9109 - val_loss: 0.3124 - val_acc: 0.8908\n",
            "Epoch 16/80\n",
            " - 7s - loss: 0.2308 - acc: 0.9124 - val_loss: 0.3123 - val_acc: 0.8924\n",
            "Epoch 17/80\n",
            " - 7s - loss: 0.2242 - acc: 0.9149 - val_loss: 0.3212 - val_acc: 0.8884\n",
            "Epoch 18/80\n",
            " - 7s - loss: 0.2233 - acc: 0.9160 - val_loss: 0.3230 - val_acc: 0.8905\n",
            "Epoch 19/80\n",
            " - 7s - loss: 0.2198 - acc: 0.9162 - val_loss: 0.3180 - val_acc: 0.8938\n",
            "Epoch 20/80\n",
            " - 7s - loss: 0.1891 - acc: 0.9275 - val_loss: 0.3078 - val_acc: 0.8982\n",
            "Epoch 21/80\n",
            " - 7s - loss: 0.1813 - acc: 0.9307 - val_loss: 0.3065 - val_acc: 0.8990\n",
            "Epoch 22/80\n",
            " - 7s - loss: 0.1782 - acc: 0.9308 - val_loss: 0.3046 - val_acc: 0.9014\n",
            "Epoch 23/80\n",
            " - 7s - loss: 0.1741 - acc: 0.9325 - val_loss: 0.3175 - val_acc: 0.8975\n",
            "Epoch 24/80\n",
            " - 7s - loss: 0.1704 - acc: 0.9336 - val_loss: 0.3137 - val_acc: 0.9012\n"
          ],
          "name": "stdout"
        },
        {
          "output_type": "stream",
          "text": [
            "Epoch 25/80\n",
            " - 7s - loss: 0.1696 - acc: 0.9349 - val_loss: 0.3066 - val_acc: 0.8998\n",
            "Epoch 26/80\n",
            " - 7s - loss: 0.1656 - acc: 0.9357 - val_loss: 0.3143 - val_acc: 0.9004\n",
            "Epoch 27/80\n",
            " - 7s - loss: 0.1619 - acc: 0.9365 - val_loss: 0.3137 - val_acc: 0.9004\n",
            "Epoch 28/80\n",
            " - 7s - loss: 0.1473 - acc: 0.9429 - val_loss: 0.3132 - val_acc: 0.9043\n",
            "Epoch 29/80\n",
            " - 7s - loss: 0.1415 - acc: 0.9449 - val_loss: 0.3130 - val_acc: 0.9059\n",
            "Epoch 30/80\n",
            " - 7s - loss: 0.1393 - acc: 0.9465 - val_loss: 0.3203 - val_acc: 0.9041\n",
            "Epoch 31/80\n",
            " - 7s - loss: 0.1385 - acc: 0.9464 - val_loss: 0.3181 - val_acc: 0.9031\n",
            "Epoch 32/80\n",
            " - 7s - loss: 0.1366 - acc: 0.9475 - val_loss: 0.3235 - val_acc: 0.9024\n",
            "Epoch 33/80\n",
            " - 7s - loss: 0.1264 - acc: 0.9507 - val_loss: 0.3209 - val_acc: 0.9042\n",
            "Epoch 34/80\n",
            " - 7s - loss: 0.1238 - acc: 0.9523 - val_loss: 0.3248 - val_acc: 0.9048\n",
            "Epoch 35/80\n",
            " - 7s - loss: 0.1228 - acc: 0.9532 - val_loss: 0.3232 - val_acc: 0.9045\n",
            "Epoch 36/80\n",
            " - 7s - loss: 0.1205 - acc: 0.9541 - val_loss: 0.3259 - val_acc: 0.9053\n",
            "Epoch 37/80\n",
            " - 7s - loss: 0.1212 - acc: 0.9530 - val_loss: 0.3317 - val_acc: 0.9052\n",
            "Epoch 38/80\n",
            " - 7s - loss: 0.1159 - acc: 0.9546 - val_loss: 0.3343 - val_acc: 0.9059\n",
            "Epoch 39/80\n",
            " - 7s - loss: 0.1146 - acc: 0.9555 - val_loss: 0.3325 - val_acc: 0.9063\n",
            "Epoch 40/80\n",
            " - 7s - loss: 0.1131 - acc: 0.9564 - val_loss: 0.3339 - val_acc: 0.9066\n",
            "Epoch 41/80\n",
            " - 7s - loss: 0.1127 - acc: 0.9560 - val_loss: 0.3316 - val_acc: 0.9067\n",
            "Epoch 42/80\n",
            " - 7s - loss: 0.1126 - acc: 0.9568 - val_loss: 0.3353 - val_acc: 0.9069\n",
            "Epoch 43/80\n",
            " - 7s - loss: 0.1104 - acc: 0.9579 - val_loss: 0.3355 - val_acc: 0.9056\n",
            "Epoch 44/80\n",
            " - 7s - loss: 0.1091 - acc: 0.9580 - val_loss: 0.3362 - val_acc: 0.9064\n",
            "Epoch 45/80\n",
            " - 7s - loss: 0.1084 - acc: 0.9583 - val_loss: 0.3358 - val_acc: 0.9077\n",
            "Epoch 46/80\n",
            " - 7s - loss: 0.1086 - acc: 0.9585 - val_loss: 0.3397 - val_acc: 0.9065\n",
            "Epoch 47/80\n",
            " - 7s - loss: 0.1076 - acc: 0.9580 - val_loss: 0.3395 - val_acc: 0.9060\n",
            "Epoch 48/80\n",
            " - 7s - loss: 0.1057 - acc: 0.9593 - val_loss: 0.3386 - val_acc: 0.9065\n",
            "Epoch 49/80\n",
            " - 7s - loss: 0.1055 - acc: 0.9592 - val_loss: 0.3399 - val_acc: 0.9062\n",
            "Epoch 50/80\n",
            " - 7s - loss: 0.1057 - acc: 0.9593 - val_loss: 0.3401 - val_acc: 0.9069\n",
            "Epoch 51/80\n",
            " - 7s - loss: 0.1053 - acc: 0.9595 - val_loss: 0.3395 - val_acc: 0.9063\n",
            "Epoch 52/80\n",
            " - 7s - loss: 0.1051 - acc: 0.9599 - val_loss: 0.3394 - val_acc: 0.9064\n",
            "Epoch 53/80\n",
            " - 7s - loss: 0.1059 - acc: 0.9594 - val_loss: 0.3398 - val_acc: 0.9066\n",
            "Epoch 54/80\n",
            " - 7s - loss: 0.1044 - acc: 0.9595 - val_loss: 0.3407 - val_acc: 0.9065\n",
            "Epoch 55/80\n",
            " - 7s - loss: 0.1031 - acc: 0.9601 - val_loss: 0.3406 - val_acc: 0.9073\n",
            "Epoch 56/80\n",
            " - 7s - loss: 0.1046 - acc: 0.9606 - val_loss: 0.3407 - val_acc: 0.9069\n",
            "Epoch 57/80\n",
            " - 7s - loss: 0.1050 - acc: 0.9599 - val_loss: 0.3410 - val_acc: 0.9069\n",
            "Epoch 58/80\n",
            " - 7s - loss: 0.1052 - acc: 0.9598 - val_loss: 0.3419 - val_acc: 0.9064\n"
          ],
          "name": "stdout"
        },
        {
          "output_type": "stream",
          "text": [
            "Epoch 59/80\n",
            " - 7s - loss: 0.1057 - acc: 0.9591 - val_loss: 0.3418 - val_acc: 0.9073\n",
            "Epoch 60/80\n",
            " - 7s - loss: 0.1031 - acc: 0.9607 - val_loss: 0.3425 - val_acc: 0.9062\n",
            "Epoch 61/80\n",
            " - 7s - loss: 0.1038 - acc: 0.9599 - val_loss: 0.3417 - val_acc: 0.9061\n",
            "Epoch 62/80\n",
            " - 7s - loss: 0.1038 - acc: 0.9607 - val_loss: 0.3420 - val_acc: 0.9061\n",
            "Epoch 63/80\n",
            " - 7s - loss: 0.1039 - acc: 0.9601 - val_loss: 0.3429 - val_acc: 0.9070\n",
            "Epoch 64/80\n",
            " - 7s - loss: 0.1043 - acc: 0.9600 - val_loss: 0.3419 - val_acc: 0.9064\n",
            "Epoch 65/80\n",
            " - 7s - loss: 0.1029 - acc: 0.9608 - val_loss: 0.3431 - val_acc: 0.9067\n",
            "Epoch 66/80\n",
            " - 7s - loss: 0.1033 - acc: 0.9597 - val_loss: 0.3438 - val_acc: 0.9067\n",
            "Epoch 67/80\n",
            " - 7s - loss: 0.1036 - acc: 0.9600 - val_loss: 0.3421 - val_acc: 0.9064\n",
            "Epoch 68/80\n",
            " - 7s - loss: 0.1045 - acc: 0.9597 - val_loss: 0.3428 - val_acc: 0.9066\n",
            "Epoch 69/80\n",
            " - 7s - loss: 0.1034 - acc: 0.9597 - val_loss: 0.3435 - val_acc: 0.9060\n",
            "Epoch 70/80\n",
            " - 7s - loss: 0.1028 - acc: 0.9607 - val_loss: 0.3434 - val_acc: 0.9061\n",
            "Epoch 71/80\n",
            " - 7s - loss: 0.1027 - acc: 0.9601 - val_loss: 0.3437 - val_acc: 0.9066\n",
            "Epoch 72/80\n",
            " - 7s - loss: 0.1029 - acc: 0.9601 - val_loss: 0.3440 - val_acc: 0.9065\n",
            "Epoch 73/80\n",
            " - 7s - loss: 0.1022 - acc: 0.9609 - val_loss: 0.3445 - val_acc: 0.9067\n",
            "Epoch 74/80\n",
            " - 7s - loss: 0.1017 - acc: 0.9616 - val_loss: 0.3446 - val_acc: 0.9063\n",
            "Epoch 75/80\n",
            " - 7s - loss: 0.1014 - acc: 0.9610 - val_loss: 0.3457 - val_acc: 0.9060\n",
            "Epoch 76/80\n",
            " - 7s - loss: 0.1020 - acc: 0.9611 - val_loss: 0.3451 - val_acc: 0.9056\n",
            "Epoch 77/80\n",
            " - 7s - loss: 0.1009 - acc: 0.9617 - val_loss: 0.3449 - val_acc: 0.9070\n",
            "Epoch 78/80\n",
            " - 7s - loss: 0.1017 - acc: 0.9610 - val_loss: 0.3456 - val_acc: 0.9064\n",
            "Epoch 79/80\n",
            " - 7s - loss: 0.1023 - acc: 0.9611 - val_loss: 0.3465 - val_acc: 0.9066\n",
            "Epoch 80/80\n",
            " - 7s - loss: 0.1014 - acc: 0.9616 - val_loss: 0.3460 - val_acc: 0.9062\n"
          ],
          "name": "stdout"
        }
      ]
    },
    {
      "metadata": {
        "id": "mUvc745t8wlg",
        "colab_type": "text"
      },
      "cell_type": "markdown",
      "source": [
        "# 5. Adam w/ L2(3e-5)"
      ]
    },
    {
      "metadata": {
        "id": "eC5C2m1A8wlh",
        "colab_type": "code",
        "colab": {
          "autoexec": {
            "startup": false,
            "wait_interval": 0
          },
          "base_uri": "https://localhost:8080/",
          "height": 3209
        },
        "outputId": "5abb7430-e510-420f-bde1-0c75bec0c05a",
        "executionInfo": {
          "status": "ok",
          "timestamp": 1532343288766,
          "user_tz": -480,
          "elapsed": 601461,
          "user": {
            "displayName": "Lu SA",
            "photoUrl": "https://lh3.googleusercontent.com/a/default-user=s128",
            "userId": "109275333798683015269"
          }
        }
      },
      "cell_type": "code",
      "source": [
        "from keras.layers import *\n",
        "\n",
        "model = Sequential()\n",
        "model.add(Dense(512, activation='relu', kernel_initializer='he_normal', input_shape=(784,), kernel_regularizer=regularizers.l2(3e-5)))\n",
        "model.add(Dropout(0.2))\n",
        "model.add(Dense(128, activation='relu', kernel_initializer='he_normal', kernel_regularizer=regularizers.l2(3e-5)))\n",
        "model.add(Dropout(0.2))\n",
        "model.add(Dense(num_classes, activation='softmax'))\n",
        "\n",
        "model.summary()\n",
        "\n",
        "model.compile(loss='categorical_crossentropy',\n",
        "              optimizer=Adam(),\n",
        "              metrics=['accuracy'])\n",
        "\n",
        "history4 = model.fit(x_train, y_train,\n",
        "                    batch_size=batch_size,\n",
        "                    epochs=epochs,\n",
        "                    verbose=2, callbacks=[reduce_lr_adam],\n",
        "                    validation_data=(x_test, y_test))"
      ],
      "execution_count": 14,
      "outputs": [
        {
          "output_type": "stream",
          "text": [
            "_________________________________________________________________\n",
            "Layer (type)                 Output Shape              Param #   \n",
            "=================================================================\n",
            "dense_16 (Dense)             (None, 512)               401920    \n",
            "_________________________________________________________________\n",
            "dropout_11 (Dropout)         (None, 512)               0         \n",
            "_________________________________________________________________\n",
            "dense_17 (Dense)             (None, 128)               65664     \n",
            "_________________________________________________________________\n",
            "dropout_12 (Dropout)         (None, 128)               0         \n",
            "_________________________________________________________________\n",
            "dense_18 (Dense)             (None, 10)                1290      \n",
            "=================================================================\n",
            "Total params: 468,874\n",
            "Trainable params: 468,874\n",
            "Non-trainable params: 0\n",
            "_________________________________________________________________\n",
            "Train on 60000 samples, validate on 10000 samples\n",
            "Epoch 1/80\n",
            " - 8s - loss: 0.5770 - acc: 0.8032 - val_loss: 0.4515 - val_acc: 0.8455\n",
            "Epoch 2/80\n",
            " - 7s - loss: 0.4298 - acc: 0.8557 - val_loss: 0.4114 - val_acc: 0.8594\n",
            "Epoch 3/80\n",
            " - 7s - loss: 0.3967 - acc: 0.8667 - val_loss: 0.3957 - val_acc: 0.8684\n",
            "Epoch 4/80\n",
            " - 7s - loss: 0.3732 - acc: 0.8759 - val_loss: 0.3865 - val_acc: 0.8697\n",
            "Epoch 5/80\n",
            " - 7s - loss: 0.3617 - acc: 0.8804 - val_loss: 0.4163 - val_acc: 0.8662\n",
            "Epoch 6/80\n",
            " - 8s - loss: 0.3481 - acc: 0.8833 - val_loss: 0.3847 - val_acc: 0.8767\n",
            "Epoch 7/80\n",
            " - 7s - loss: 0.3399 - acc: 0.8880 - val_loss: 0.3687 - val_acc: 0.8811\n",
            "Epoch 8/80\n",
            " - 7s - loss: 0.3323 - acc: 0.8900 - val_loss: 0.3710 - val_acc: 0.8786\n",
            "Epoch 9/80\n",
            " - 8s - loss: 0.3277 - acc: 0.8931 - val_loss: 0.3689 - val_acc: 0.8812\n",
            "Epoch 10/80\n",
            " - 8s - loss: 0.3196 - acc: 0.8957 - val_loss: 0.3636 - val_acc: 0.8822\n",
            "Epoch 11/80\n",
            " - 7s - loss: 0.3146 - acc: 0.8977 - val_loss: 0.3772 - val_acc: 0.8802\n",
            "Epoch 12/80\n",
            " - 8s - loss: 0.3124 - acc: 0.8999 - val_loss: 0.3595 - val_acc: 0.8851\n",
            "Epoch 13/80\n",
            " - 8s - loss: 0.3091 - acc: 0.8994 - val_loss: 0.3638 - val_acc: 0.8839\n",
            "Epoch 14/80\n",
            " - 7s - loss: 0.3061 - acc: 0.9011 - val_loss: 0.3600 - val_acc: 0.8896\n",
            "Epoch 15/80\n",
            " - 7s - loss: 0.2990 - acc: 0.9045 - val_loss: 0.3803 - val_acc: 0.8801\n",
            "Epoch 16/80\n",
            " - 7s - loss: 0.2976 - acc: 0.9047 - val_loss: 0.3618 - val_acc: 0.8869\n",
            "Epoch 17/80\n",
            " - 8s - loss: 0.2939 - acc: 0.9070 - val_loss: 0.3499 - val_acc: 0.8916\n",
            "Epoch 18/80\n",
            " - 8s - loss: 0.2891 - acc: 0.9075 - val_loss: 0.3550 - val_acc: 0.8894\n",
            "Epoch 19/80\n",
            " - 8s - loss: 0.2867 - acc: 0.9097 - val_loss: 0.3590 - val_acc: 0.8890\n",
            "Epoch 20/80\n",
            " - 8s - loss: 0.2865 - acc: 0.9098 - val_loss: 0.3729 - val_acc: 0.8888\n",
            "Epoch 21/80\n",
            " - 8s - loss: 0.2832 - acc: 0.9117 - val_loss: 0.3692 - val_acc: 0.8895\n",
            "Epoch 22/80\n",
            " - 8s - loss: 0.2841 - acc: 0.9109 - val_loss: 0.3559 - val_acc: 0.8893\n",
            "Epoch 23/80\n",
            " - 8s - loss: 0.2503 - acc: 0.9219 - val_loss: 0.3419 - val_acc: 0.8970\n",
            "Epoch 24/80\n",
            " - 7s - loss: 0.2436 - acc: 0.9249 - val_loss: 0.3537 - val_acc: 0.8946\n"
          ],
          "name": "stdout"
        },
        {
          "output_type": "stream",
          "text": [
            "Epoch 25/80\n",
            " - 7s - loss: 0.2369 - acc: 0.9276 - val_loss: 0.3475 - val_acc: 0.8936\n",
            "Epoch 26/80\n",
            " - 8s - loss: 0.2369 - acc: 0.9280 - val_loss: 0.3464 - val_acc: 0.8936\n",
            "Epoch 27/80\n",
            " - 8s - loss: 0.2347 - acc: 0.9273 - val_loss: 0.3511 - val_acc: 0.8940\n",
            "Epoch 28/80\n",
            " - 7s - loss: 0.2293 - acc: 0.9294 - val_loss: 0.3502 - val_acc: 0.8951\n",
            "Epoch 29/80\n",
            " - 7s - loss: 0.2132 - acc: 0.9359 - val_loss: 0.3426 - val_acc: 0.8982\n",
            "Epoch 30/80\n",
            " - 8s - loss: 0.2103 - acc: 0.9375 - val_loss: 0.3452 - val_acc: 0.9018\n",
            "Epoch 31/80\n",
            " - 7s - loss: 0.2064 - acc: 0.9387 - val_loss: 0.3435 - val_acc: 0.8986\n",
            "Epoch 32/80\n",
            " - 8s - loss: 0.2032 - acc: 0.9391 - val_loss: 0.3453 - val_acc: 0.8987\n",
            "Epoch 33/80\n",
            " - 7s - loss: 0.2014 - acc: 0.9403 - val_loss: 0.3491 - val_acc: 0.8985\n",
            "Epoch 34/80\n",
            " - 8s - loss: 0.1915 - acc: 0.9438 - val_loss: 0.3397 - val_acc: 0.9016\n",
            "Epoch 35/80\n",
            " - 8s - loss: 0.1892 - acc: 0.9449 - val_loss: 0.3435 - val_acc: 0.9000\n",
            "Epoch 36/80\n",
            " - 8s - loss: 0.1871 - acc: 0.9458 - val_loss: 0.3424 - val_acc: 0.9009\n",
            "Epoch 37/80\n",
            " - 8s - loss: 0.1855 - acc: 0.9465 - val_loss: 0.3394 - val_acc: 0.9020\n",
            "Epoch 38/80\n",
            " - 8s - loss: 0.1833 - acc: 0.9460 - val_loss: 0.3444 - val_acc: 0.9024\n",
            "Epoch 39/80\n",
            " - 7s - loss: 0.1829 - acc: 0.9462 - val_loss: 0.3449 - val_acc: 0.9020\n",
            "Epoch 40/80\n",
            " - 8s - loss: 0.1809 - acc: 0.9476 - val_loss: 0.3463 - val_acc: 0.9017\n",
            "Epoch 41/80\n",
            " - 8s - loss: 0.1802 - acc: 0.9482 - val_loss: 0.3461 - val_acc: 0.9017\n",
            "Epoch 42/80\n",
            " - 8s - loss: 0.1784 - acc: 0.9480 - val_loss: 0.3500 - val_acc: 0.9013\n",
            "Epoch 43/80\n",
            " - 8s - loss: 0.1731 - acc: 0.9504 - val_loss: 0.3470 - val_acc: 0.9028\n",
            "Epoch 44/80\n",
            " - 8s - loss: 0.1705 - acc: 0.9519 - val_loss: 0.3490 - val_acc: 0.9020\n",
            "Epoch 45/80\n",
            " - 7s - loss: 0.1714 - acc: 0.9515 - val_loss: 0.3476 - val_acc: 0.9022\n",
            "Epoch 46/80\n",
            " - 7s - loss: 0.1691 - acc: 0.9520 - val_loss: 0.3463 - val_acc: 0.9026\n",
            "Epoch 47/80\n",
            " - 7s - loss: 0.1691 - acc: 0.9523 - val_loss: 0.3484 - val_acc: 0.9014\n",
            "Epoch 48/80\n",
            " - 7s - loss: 0.1653 - acc: 0.9530 - val_loss: 0.3487 - val_acc: 0.9027\n",
            "Epoch 49/80\n",
            " - 7s - loss: 0.1638 - acc: 0.9538 - val_loss: 0.3478 - val_acc: 0.9027\n",
            "Epoch 50/80\n",
            " - 8s - loss: 0.1650 - acc: 0.9535 - val_loss: 0.3502 - val_acc: 0.9033\n",
            "Epoch 51/80\n",
            " - 7s - loss: 0.1641 - acc: 0.9539 - val_loss: 0.3464 - val_acc: 0.9032\n",
            "Epoch 52/80\n",
            " - 7s - loss: 0.1615 - acc: 0.9554 - val_loss: 0.3506 - val_acc: 0.9034\n",
            "Epoch 53/80\n",
            " - 7s - loss: 0.1620 - acc: 0.9543 - val_loss: 0.3489 - val_acc: 0.9028\n",
            "Epoch 54/80\n",
            " - 7s - loss: 0.1615 - acc: 0.9547 - val_loss: 0.3505 - val_acc: 0.9021\n",
            "Epoch 55/80\n",
            " - 7s - loss: 0.1612 - acc: 0.9554 - val_loss: 0.3506 - val_acc: 0.9026\n",
            "Epoch 56/80\n",
            " - 7s - loss: 0.1611 - acc: 0.9550 - val_loss: 0.3494 - val_acc: 0.9037\n",
            "Epoch 57/80\n",
            " - 7s - loss: 0.1585 - acc: 0.9554 - val_loss: 0.3511 - val_acc: 0.9041\n",
            "Epoch 58/80\n",
            " - 8s - loss: 0.1605 - acc: 0.9548 - val_loss: 0.3505 - val_acc: 0.9035\n"
          ],
          "name": "stdout"
        },
        {
          "output_type": "stream",
          "text": [
            "Epoch 59/80\n",
            " - 7s - loss: 0.1598 - acc: 0.9557 - val_loss: 0.3509 - val_acc: 0.9031\n",
            "Epoch 60/80\n",
            " - 8s - loss: 0.1599 - acc: 0.9558 - val_loss: 0.3500 - val_acc: 0.9030\n",
            "Epoch 61/80\n",
            " - 7s - loss: 0.1584 - acc: 0.9563 - val_loss: 0.3510 - val_acc: 0.9038\n",
            "Epoch 62/80\n",
            " - 7s - loss: 0.1608 - acc: 0.9552 - val_loss: 0.3504 - val_acc: 0.9038\n",
            "Epoch 63/80\n",
            " - 7s - loss: 0.1589 - acc: 0.9561 - val_loss: 0.3508 - val_acc: 0.9033\n",
            "Epoch 64/80\n",
            " - 7s - loss: 0.1580 - acc: 0.9566 - val_loss: 0.3506 - val_acc: 0.9033\n",
            "Epoch 65/80\n",
            " - 7s - loss: 0.1593 - acc: 0.9569 - val_loss: 0.3512 - val_acc: 0.9029\n",
            "Epoch 66/80\n",
            " - 8s - loss: 0.1586 - acc: 0.9563 - val_loss: 0.3515 - val_acc: 0.9033\n",
            "Epoch 67/80\n",
            " - 7s - loss: 0.1574 - acc: 0.9564 - val_loss: 0.3521 - val_acc: 0.9027\n",
            "Epoch 68/80\n",
            " - 8s - loss: 0.1580 - acc: 0.9553 - val_loss: 0.3518 - val_acc: 0.9030\n",
            "Epoch 69/80\n",
            " - 7s - loss: 0.1579 - acc: 0.9564 - val_loss: 0.3514 - val_acc: 0.9035\n",
            "Epoch 70/80\n",
            " - 7s - loss: 0.1584 - acc: 0.9564 - val_loss: 0.3523 - val_acc: 0.9026\n",
            "Epoch 71/80\n",
            " - 7s - loss: 0.1573 - acc: 0.9573 - val_loss: 0.3522 - val_acc: 0.9034\n",
            "Epoch 72/80\n",
            " - 7s - loss: 0.1580 - acc: 0.9562 - val_loss: 0.3522 - val_acc: 0.9037\n",
            "Epoch 73/80\n",
            " - 7s - loss: 0.1572 - acc: 0.9568 - val_loss: 0.3515 - val_acc: 0.9027\n",
            "Epoch 74/80\n",
            " - 8s - loss: 0.1581 - acc: 0.9563 - val_loss: 0.3517 - val_acc: 0.9027\n",
            "Epoch 75/80\n",
            " - 7s - loss: 0.1577 - acc: 0.9565 - val_loss: 0.3527 - val_acc: 0.9037\n",
            "Epoch 76/80\n",
            " - 7s - loss: 0.1580 - acc: 0.9556 - val_loss: 0.3520 - val_acc: 0.9030\n",
            "Epoch 77/80\n",
            " - 7s - loss: 0.1560 - acc: 0.9566 - val_loss: 0.3529 - val_acc: 0.9031\n",
            "Epoch 78/80\n",
            " - 7s - loss: 0.1570 - acc: 0.9565 - val_loss: 0.3526 - val_acc: 0.9034\n",
            "Epoch 79/80\n",
            " - 7s - loss: 0.1578 - acc: 0.9566 - val_loss: 0.3525 - val_acc: 0.9024\n",
            "Epoch 80/80\n",
            " - 7s - loss: 0.1563 - acc: 0.9578 - val_loss: 0.3528 - val_acc: 0.9031\n"
          ],
          "name": "stdout"
        }
      ]
    },
    {
      "metadata": {
        "id": "yEXRZvxX8wln",
        "colab_type": "text"
      },
      "cell_type": "markdown",
      "source": [
        "# Plot results"
      ]
    },
    {
      "metadata": {
        "id": "y_BqoNfk8wln",
        "colab_type": "code",
        "colab": {
          "autoexec": {
            "startup": false,
            "wait_interval": 0
          }
        }
      },
      "cell_type": "code",
      "source": [
        "import matplotlib.pyplot as plt\n",
        "%matplotlib inline"
      ],
      "execution_count": 0,
      "outputs": []
    },
    {
      "metadata": {
        "id": "9ZZwggx68wls",
        "colab_type": "code",
        "colab": {
          "autoexec": {
            "startup": false,
            "wait_interval": 0
          }
        }
      },
      "cell_type": "code",
      "source": [
        "def plot_history(hists, attribute='val_loss', axis=(-1,81,0.85,0.99), loc='lower right'):\n",
        "    ylabel = {'oss': 'loss', 'acc': 'accuracy'}\n",
        "    title = {'val_loss': 'valid. loss', 'loss': 'trn. loss', 'val_acc': 'valid. accuracy', 'acc': 'trn._ accuracy'}\n",
        "    num_hists = len(hists)\n",
        "    \n",
        "    plt.figure(figsize=(6, 4))  \n",
        "    plt.axis(axis)\n",
        "    for i in range(num_hists):\n",
        "        plt.plot(hists[i].history[attribute])\n",
        "    plt.title(title[attribute])  \n",
        "    plt.ylabel(ylabel[attribute[-3:]])  \n",
        "    plt.xlabel('epoch')  \n",
        "    plt.legend(['SGDW', 'AdamW', 'SGD w/o L2', 'Adam w/o L2', 'Adam(L2=3e-5)'], loc=loc)  \n",
        "\n",
        "    plt.show()"
      ],
      "execution_count": 0,
      "outputs": []
    },
    {
      "metadata": {
        "id": "dADiDPbP8wly",
        "colab_type": "code",
        "colab": {
          "autoexec": {
            "startup": false,
            "wait_interval": 0
          }
        }
      },
      "cell_type": "code",
      "source": [
        "hists = [history0, history1, history2, history3, history4]"
      ],
      "execution_count": 0,
      "outputs": []
    },
    {
      "metadata": {
        "id": "z9vA1FRD8wl9",
        "colab_type": "code",
        "colab": {
          "autoexec": {
            "startup": false,
            "wait_interval": 0
          },
          "base_uri": "https://localhost:8080/",
          "height": 294
        },
        "outputId": "ecf63c66-7227-4e2f-bcff-998900e0d2e3",
        "executionInfo": {
          "status": "ok",
          "timestamp": 1532344346718,
          "user_tz": -480,
          "elapsed": 1317,
          "user": {
            "displayName": "Lu SA",
            "photoUrl": "https://lh3.googleusercontent.com/a/default-user=s128",
            "userId": "109275333798683015269"
          }
        }
      },
      "cell_type": "code",
      "source": [
        "plot_history(hists, attribute='val_acc', axis=(-1,81,0.875,0.91), loc='lower right')"
      ],
      "execution_count": 30,
      "outputs": [
        {
          "output_type": "display_data",
          "data": {
            "image/png": "[encoded data removed]",
            "text/plain": [
              "<matplotlib.figure.Figure at 0x7ff113061198>"
            ]
          },
          "metadata": {
            "tags": []
          }
        }
      ]
    },
    {
      "metadata": {
        "id": "EtB3h4jp8wmI",
        "colab_type": "code",
        "colab": {
          "autoexec": {
            "startup": false,
            "wait_interval": 0
          },
          "base_uri": "https://localhost:8080/",
          "height": 294
        },
        "outputId": "42618799-c3f9-4391-f989-e62d7a7acc38",
        "executionInfo": {
          "status": "ok",
          "timestamp": 1532344453621,
          "user_tz": -480,
          "elapsed": 792,
          "user": {
            "displayName": "Lu SA",
            "photoUrl": "https://lh3.googleusercontent.com/a/default-user=s128",
            "userId": "109275333798683015269"
          }
        }
      },
      "cell_type": "code",
      "source": [
        "plot_history(hists, attribute='acc', axis=(-1,81,0.89,0.97), loc='lower right')"
      ],
      "execution_count": 36,
      "outputs": [
        {
          "output_type": "display_data",
          "data": {
            "image/png": "[encoded data removed]",
            "text/plain": [
              "<matplotlib.figure.Figure at 0x7ff113913a20>"
            ]
          },
          "metadata": {
            "tags": []
          }
        }
      ]
    },
    {
      "metadata": {
        "id": "EDX1ZZ7r8wmW",
        "colab_type": "code",
        "colab": {
          "autoexec": {
            "startup": false,
            "wait_interval": 0
          },
          "base_uri": "https://localhost:8080/",
          "height": 294
        },
        "outputId": "b65add38-8584-4e07-df50-f0103bc7690a",
        "executionInfo": {
          "status": "ok",
          "timestamp": 1532344461308,
          "user_tz": -480,
          "elapsed": 902,
          "user": {
            "displayName": "Lu SA",
            "photoUrl": "https://lh3.googleusercontent.com/a/default-user=s128",
            "userId": "109275333798683015269"
          }
        }
      },
      "cell_type": "code",
      "source": [
        "plot_history(hists, attribute='val_loss', axis=(-1,81,0.26,0.45), loc='upper right')"
      ],
      "execution_count": 37,
      "outputs": [
        {
          "output_type": "display_data",
          "data": {
            "image/png": "[encoded data removed]",
            "text/plain": [
              "<matplotlib.figure.Figure at 0x7ff113c587f0>"
            ]
          },
          "metadata": {
            "tags": []
          }
        }
      ]
    },
    {
      "metadata": {
        "id": "-F_yOQFp8wme",
        "colab_type": "code",
        "colab": {
          "autoexec": {
            "startup": false,
            "wait_interval": 0
          },
          "base_uri": "https://localhost:8080/",
          "height": 294
        },
        "outputId": "2bd04c57-54f6-4a05-8023-df604afd2e71",
        "executionInfo": {
          "status": "ok",
          "timestamp": 1532344462869,
          "user_tz": -480,
          "elapsed": 1198,
          "user": {
            "displayName": "Lu SA",
            "photoUrl": "https://lh3.googleusercontent.com/a/default-user=s128",
            "userId": "109275333798683015269"
          }
        }
      },
      "cell_type": "code",
      "source": [
        "plot_history(hists, attribute='loss', axis=(-1,81,0.085,0.42), loc='upper right')"
      ],
      "execution_count": 38,
      "outputs": [
        {
          "output_type": "display_data",
          "data": {
            "image/png": "[encoded data removed]",
            "text/plain": [
              "<matplotlib.figure.Figure at 0x7ff113c62be0>"
            ]
          },
          "metadata": {
            "tags": []
          }
        }
      ]
    },
    {
      "metadata": {
        "id": "qynB3kQo8wml",
        "colab_type": "code",
        "colab": {
          "autoexec": {
            "startup": false,
            "wait_interval": 0
          }
        }
      },
      "cell_type": "code",
      "source": [
        ""
      ],
      "execution_count": 0,
      "outputs": []
    }
  ]
}